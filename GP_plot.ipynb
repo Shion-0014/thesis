{
 "cells": [
  {
   "cell_type": "code",
   "execution_count": 9,
   "metadata": {},
   "outputs": [],
   "source": [
    "import numpy as np\n",
    "import GPy\n",
    "import pandas as pd\n",
    "from matplotlib import pyplot as plt\n",
    "%matplotlib inline\n",
    "%config InlineBackend.figure_format = 'retina'"
   ]
  },
  {
   "cell_type": "markdown",
   "metadata": {},
   "source": [
    "## 無情報事前分布のプロット"
   ]
  },
  {
   "cell_type": "code",
   "execution_count": 10,
   "metadata": {},
   "outputs": [],
   "source": [
    "# 事前分布の平均\n",
    "def mean_function(x):\n",
    "    return np.zeros_like(x)\n",
    "\n",
    "# 事前分布の共分散行列\n",
    "def covariance_function(x1, x2, s):\n",
    "    return np.exp(-(x1 - x2) ** 2 / s ** 2)\n",
    "\n",
    "def multi_sampling(x, m, L, seed=0):\n",
    "    # 標準正規分布からx.size点サンプリング\n",
    "    z = np.random.normal(\n",
    "        loc   = 0,      # 平均\n",
    "        scale = 1,      # 標準偏差\n",
    "        size  = len(x),# 出力配列のサイズ(タプルも可)\n",
    "    )\n",
    "    return m + np.dot(L, z) # サンプルをシフトする"
   ]
  },
  {
   "cell_type": "code",
   "execution_count": 11,
   "metadata": {},
   "outputs": [],
   "source": [
    "x = np.linspace(-10, 10, 80)\n",
    "\n",
    "x1, x2 = np.meshgrid(x, x)\n",
    "\n",
    "sigma = 1.0\n",
    "\n",
    "m = mean_function(x)\n",
    "gram_matrix = covariance_function(x1, x2, sigma)\n",
    "\n",
    "# コレスキー分解\n",
    "L = np.linalg.cholesky(gram_matrix)\n"
   ]
  },
  {
   "cell_type": "code",
   "execution_count": null,
   "metadata": {},
   "outputs": [],
   "source": [
    "plt.figure(figsize=(12, 8), facecolor='w')\n",
    "\n",
    "# 関数を20個サンプリングしつつプロット\n",
    "for k in range(20):\n",
    "    y_sample = multi_sampling(x, m, L, seed=k)\n",
    "    \n",
    "    # y_sample = np.random.multivariate_normal(m, gram_matrix) \n",
    "    # →numpyの関数. 多変量ガウス分布からのサンプリングが可能. ただし、行列>0でなくてもいいよう, コレスキー分解ではなく, SVDで実装されている.\n",
    "    \n",
    "    plt.plot(x, y_sample, label=f'Sample {k}', color='deepskyblue', alpha=0.8)\n",
    "\n",
    "plt.legend(loc='upper right')"
   ]
  },
  {
   "cell_type": "markdown",
   "metadata": {},
   "source": [
    "## GPで訓練"
   ]
  },
  {
   "cell_type": "code",
   "execution_count": null,
   "metadata": {},
   "outputs": [],
   "source": [
    "# 訓練点\n",
    "X = np.array([[-7.1],[-3.2], [-0.1], [3.5], [6.6]])\n",
    "Y = np.array([[0.1],[-0.2], [0.5], [1.5], [0.6]])"
   ]
  },
  {
   "cell_type": "code",
   "execution_count": null,
   "metadata": {},
   "outputs": [],
   "source": [
    "kernel = GPy.kern.RBF(1)\n",
    "\n",
    "model = GPy.models.GPRegression(X, Y, kernel=kernel)\n",
    "model.optimize()\n",
    "\n",
    "# model.plot()\n",
    "# → GPyのメソッド. このコマンド一つで同様のプロットが可能.\n",
    "\n",
    "## prediction\n",
    "x_axis = np.linspace(-10, 10, 80).reshape(-1,1)\n",
    "\n",
    "# 各点の事後分布の平均と共分散を取得(i.e. p(x_i ; (X,Y)))\n",
    "f_mean, f_var = model.predict(x_axis) # 同時分布ではなく、各点の事後平均(in R^n) と事後共分散(in R^n)を出力\n",
    "\n",
    "# 2σ区間の算出\n",
    "f_upper, f_lower = f_mean + 2*np.sqrt(f_var), f_mean - 2.*np.sqrt(f_var)\n",
    "\n",
    "## plot\n",
    "plt.figure(figsize=(12, 8), facecolor='w')\n",
    "\n",
    "# データ点のプロット\n",
    "plt.scatter(X, Y, color='blue', marker='x', s=100) \n",
    "# 平均値の描画\n",
    "plt.plot(x_axis, f_mean, color='deepskyblue', lw=2)\n",
    "# 2σ区間の描画\n",
    "plt.fill_between(x_axis[:,0], f_lower[:,0], f_upper[:,0], color='deepskyblue', alpha=.1)"
   ]
  },
  {
   "cell_type": "markdown",
   "metadata": {},
   "source": [
    "### 同時分布のサンプリング\n",
    "#### GPyのメソッドを用いる."
   ]
  },
  {
   "cell_type": "code",
   "execution_count": null,
   "metadata": {
    "scrolled": false
   },
   "outputs": [],
   "source": [
    "# 同時事後分布からのサンプリング（PRML2章の公式から、同時事後分布\n",
    "posterior = model.posterior_samples_f(x_axis, size=20)\n",
    "\n",
    "plt.figure(figsize=(12, 8), facecolor='w')\n",
    "for i, pos in enumerate(posterior.T):\n",
    "    label = None\n",
    "    if i == 0:\n",
    "        label = \"posteror\"        \n",
    "    plt.plot(x_axis, pos.reshape(-1,1), color=\"deepskyblue\", alpha=0.3,  label=label)\n",
    "plt.scatter(X, Y, color='blue', marker='x', s=100) \n",
    "plt.legend()"
   ]
  },
  {
   "cell_type": "markdown",
   "metadata": {},
   "source": [
    "#### 明示的に行う."
   ]
  },
  {
   "cell_type": "code",
   "execution_count": null,
   "metadata": {},
   "outputs": [],
   "source": [
    "# 共分散関数のコレスキー分解\n",
    "predict_kwargs = {}\n",
    "predict_kwargs[\"full_cov\"] = True\n",
    "\n",
    "x_axis = np.linspace(-10, 10, 80).reshape(-1,1)\n",
    "\n",
    "# 事後同時分布から、事後共分散行列が得られる。\n",
    "f_mean, f_cov = model._raw_predict(x_axis,  **predict_kwargs) \n",
    "\n",
    "# コレスキー分解\n",
    "# L = np.linalg.cholesky(f_cov) \n",
    "# →　x_axisに対して、何故か正定値でなくなる...（数値誤差？）　\n",
    "\n",
    "plt.figure(figsize=(12, 8), facecolor='w')\n",
    "\n",
    "# 関数を10個サンプリングしつつプロット\n",
    "for k in range(20):\n",
    "#     y_sample = multi_sampling(x_axis.reshape(-1), f_mean.reshape(-1), L)\n",
    "    y_sample = np.random.multivariate_normal(f_mean.reshape(-1), f_cov) # 正定値なくてもいいように、特異値分解を使っている.\n",
    "    plt.plot(x_axis, y_sample, label=f'Sample {k}', color='deepskyblue', alpha=0.3)\n",
    "\n",
    "plt.scatter(X, Y, color='blue', marker='x', s=100) \n",
    "plt.legend(loc='upper right')"
   ]
  },
  {
   "cell_type": "markdown",
   "metadata": {},
   "source": [
    "### 参考\n",
    "- https://statmodeling.hatenablog.com/entry/how-to-use-GPy\n",
    "- https://eqseqs.hatenablog.com/entry/2018/09/24/181322\n",
    "\n",
    "ガウス分布のシフト公式\n",
    "- https://research.miidas.jp/2019/09/%E5%A4%9A%E5%A4%89%E9%87%8F%E3%82%AC%E3%82%A6%E3%82%B9%E3%81%AE%E6%A8%99%E6%BA%96%E5%8C%96%E3%81%A8%E7%89%B9%E7%95%B0%E5%80%A4%E5%88%86%E8%A7%A3%E3%81%AB%E3%81%A4%E3%81%84%E3%81%A6/\n",
    "\n",
    "公式ドキュメント\n",
    "- https://gpy.readthedocs.io/en/deploy/_modules/GPy/util/normalizer.html#Standardize\n",
    "- https://gpy.readthedocs.io/en/deploy/_modules/GPy/core/gp.html#GP.posterior_samples_f"
   ]
  }
 ],
 "metadata": {
  "kernelspec": {
   "display_name": "Python 3",
   "language": "python",
   "name": "python3"
  },
  "language_info": {
   "codemirror_mode": {
    "name": "ipython",
    "version": 3
   },
   "file_extension": ".py",
   "mimetype": "text/x-python",
   "name": "python",
   "nbconvert_exporter": "python",
   "pygments_lexer": "ipython3",
   "version": "3.6.4"
  }
 },
 "nbformat": 4,
 "nbformat_minor": 2
}
